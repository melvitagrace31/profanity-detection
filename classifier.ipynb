{
  "nbformat": 4,
  "nbformat_minor": 0,
  "metadata": {
    "colab": {
      "name": "text-recog.ipynb",
      "provenance": [],
      "collapsed_sections": []
    },
    "kernelspec": {
      "name": "python3",
      "display_name": "Python 3"
    },
    "language_info": {
      "name": "python"
    }
  },
  "cells": [
    {
      "cell_type": "code",
      "execution_count": null,
      "metadata": {
        "id": "I1d68d0Z6Cix"
      },
      "outputs": [],
      "source": [
        "#Importing library\n",
        "import csv\n",
        "import random\n",
        "import numpy as np\n",
        "import pandas as pd\n",
        "import tensorflow as tf\n",
        "from tensorflow.keras.preprocessing.text import Tokenizer\n",
        "from tensorflow.keras.preprocessing.sequence import pad_sequences\n",
        "import matplotlib.pyplot as plt"
      ]
    },
    {
      "cell_type": "code",
      "source": [
        "EMBEDDING_DIM = 100\n",
        "MAXLEN = 16\n",
        "NUM_WORDS = 1000\n",
        "TRUNCATING = 'post'\n",
        "PADDING = 'post'\n",
        "OOV_TOKEN = \"<OOV>\"\n",
        "MAX_EXAMPLES = 160000\n",
        "TRAINING_SPLIT = 0.9"
      ],
      "metadata": {
        "id": "LYkV5B0HB8o-"
      },
      "execution_count": null,
      "outputs": []
    },
    {
      "cell_type": "markdown",
      "source": [
        "**Data Insight**\n",
        "\n",
        "Dataset source : \n",
        "https://www.kaggle.com/datasets/tsqfnfl/kalimat-kasar-bahasa-indonesia?resource=download\n",
        "\n",
        "Data that labeled 0 doesn't contain bad word, and data that labeled 1 contain bad word"
      ],
      "metadata": {
        "id": "TUH_sg7Ve0CH"
      }
    },
    {
      "cell_type": "code",
      "source": [
        "#Read data\n",
        "df=pd.read_csv('/content/sample_data/bad_sentences.csv')\n",
        "df=df.sample(frac=1)\n",
        "df.head()"
      ],
      "metadata": {
        "colab": {
          "base_uri": "https://localhost:8080/",
          "height": 206
        },
        "id": "8vJocKphZkJn",
        "outputId": "e45bd7b2-4e93-442b-ffe0-3830b1981893"
      },
      "execution_count": null,
      "outputs": [
        {
          "output_type": "execute_result",
          "data": {
            "text/plain": [
              "                                              sentence  contains_bad_word\n",
              "432                             bangsat cuti dah habis                  1\n",
              "52                        Anjing bangsat tai doang lah                  1\n",
              "265  Karena si monyet sudah dimenangkan dengan kecu...                  1\n",
              "402  Gue sih pengennya naburin di badan bapak emak ...                  1\n",
              "372                                           Anak asu                  1"
            ],
            "text/html": [
              "\n",
              "  <div id=\"df-a9e9db28-2585-44d1-9d61-05fb2f0c89f5\">\n",
              "    <div class=\"colab-df-container\">\n",
              "      <div>\n",
              "<style scoped>\n",
              "    .dataframe tbody tr th:only-of-type {\n",
              "        vertical-align: middle;\n",
              "    }\n",
              "\n",
              "    .dataframe tbody tr th {\n",
              "        vertical-align: top;\n",
              "    }\n",
              "\n",
              "    .dataframe thead th {\n",
              "        text-align: right;\n",
              "    }\n",
              "</style>\n",
              "<table border=\"1\" class=\"dataframe\">\n",
              "  <thead>\n",
              "    <tr style=\"text-align: right;\">\n",
              "      <th></th>\n",
              "      <th>sentence</th>\n",
              "      <th>contains_bad_word</th>\n",
              "    </tr>\n",
              "  </thead>\n",
              "  <tbody>\n",
              "    <tr>\n",
              "      <th>432</th>\n",
              "      <td>bangsat cuti dah habis</td>\n",
              "      <td>1</td>\n",
              "    </tr>\n",
              "    <tr>\n",
              "      <th>52</th>\n",
              "      <td>Anjing bangsat tai doang lah</td>\n",
              "      <td>1</td>\n",
              "    </tr>\n",
              "    <tr>\n",
              "      <th>265</th>\n",
              "      <td>Karena si monyet sudah dimenangkan dengan kecu...</td>\n",
              "      <td>1</td>\n",
              "    </tr>\n",
              "    <tr>\n",
              "      <th>402</th>\n",
              "      <td>Gue sih pengennya naburin di badan bapak emak ...</td>\n",
              "      <td>1</td>\n",
              "    </tr>\n",
              "    <tr>\n",
              "      <th>372</th>\n",
              "      <td>Anak asu</td>\n",
              "      <td>1</td>\n",
              "    </tr>\n",
              "  </tbody>\n",
              "</table>\n",
              "</div>\n",
              "      <button class=\"colab-df-convert\" onclick=\"convertToInteractive('df-a9e9db28-2585-44d1-9d61-05fb2f0c89f5')\"\n",
              "              title=\"Convert this dataframe to an interactive table.\"\n",
              "              style=\"display:none;\">\n",
              "        \n",
              "  <svg xmlns=\"http://www.w3.org/2000/svg\" height=\"24px\"viewBox=\"0 0 24 24\"\n",
              "       width=\"24px\">\n",
              "    <path d=\"M0 0h24v24H0V0z\" fill=\"none\"/>\n",
              "    <path d=\"M18.56 5.44l.94 2.06.94-2.06 2.06-.94-2.06-.94-.94-2.06-.94 2.06-2.06.94zm-11 1L8.5 8.5l.94-2.06 2.06-.94-2.06-.94L8.5 2.5l-.94 2.06-2.06.94zm10 10l.94 2.06.94-2.06 2.06-.94-2.06-.94-.94-2.06-.94 2.06-2.06.94z\"/><path d=\"M17.41 7.96l-1.37-1.37c-.4-.4-.92-.59-1.43-.59-.52 0-1.04.2-1.43.59L10.3 9.45l-7.72 7.72c-.78.78-.78 2.05 0 2.83L4 21.41c.39.39.9.59 1.41.59.51 0 1.02-.2 1.41-.59l7.78-7.78 2.81-2.81c.8-.78.8-2.07 0-2.86zM5.41 20L4 18.59l7.72-7.72 1.47 1.35L5.41 20z\"/>\n",
              "  </svg>\n",
              "      </button>\n",
              "      \n",
              "  <style>\n",
              "    .colab-df-container {\n",
              "      display:flex;\n",
              "      flex-wrap:wrap;\n",
              "      gap: 12px;\n",
              "    }\n",
              "\n",
              "    .colab-df-convert {\n",
              "      background-color: #E8F0FE;\n",
              "      border: none;\n",
              "      border-radius: 50%;\n",
              "      cursor: pointer;\n",
              "      display: none;\n",
              "      fill: #1967D2;\n",
              "      height: 32px;\n",
              "      padding: 0 0 0 0;\n",
              "      width: 32px;\n",
              "    }\n",
              "\n",
              "    .colab-df-convert:hover {\n",
              "      background-color: #E2EBFA;\n",
              "      box-shadow: 0px 1px 2px rgba(60, 64, 67, 0.3), 0px 1px 3px 1px rgba(60, 64, 67, 0.15);\n",
              "      fill: #174EA6;\n",
              "    }\n",
              "\n",
              "    [theme=dark] .colab-df-convert {\n",
              "      background-color: #3B4455;\n",
              "      fill: #D2E3FC;\n",
              "    }\n",
              "\n",
              "    [theme=dark] .colab-df-convert:hover {\n",
              "      background-color: #434B5C;\n",
              "      box-shadow: 0px 1px 3px 1px rgba(0, 0, 0, 0.15);\n",
              "      filter: drop-shadow(0px 1px 2px rgba(0, 0, 0, 0.3));\n",
              "      fill: #FFFFFF;\n",
              "    }\n",
              "  </style>\n",
              "\n",
              "      <script>\n",
              "        const buttonEl =\n",
              "          document.querySelector('#df-a9e9db28-2585-44d1-9d61-05fb2f0c89f5 button.colab-df-convert');\n",
              "        buttonEl.style.display =\n",
              "          google.colab.kernel.accessAllowed ? 'block' : 'none';\n",
              "\n",
              "        async function convertToInteractive(key) {\n",
              "          const element = document.querySelector('#df-a9e9db28-2585-44d1-9d61-05fb2f0c89f5');\n",
              "          const dataTable =\n",
              "            await google.colab.kernel.invokeFunction('convertToInteractive',\n",
              "                                                     [key], {});\n",
              "          if (!dataTable) return;\n",
              "\n",
              "          const docLinkHtml = 'Like what you see? Visit the ' +\n",
              "            '<a target=\"_blank\" href=https://colab.research.google.com/notebooks/data_table.ipynb>data table notebook</a>'\n",
              "            + ' to learn more about interactive tables.';\n",
              "          element.innerHTML = '';\n",
              "          dataTable['output_type'] = 'display_data';\n",
              "          await google.colab.output.renderOutput(dataTable, element);\n",
              "          const docLink = document.createElement('div');\n",
              "          docLink.innerHTML = docLinkHtml;\n",
              "          element.appendChild(docLink);\n",
              "        }\n",
              "      </script>\n",
              "    </div>\n",
              "  </div>\n",
              "  "
            ]
          },
          "metadata": {},
          "execution_count": 59
        }
      ]
    },
    {
      "cell_type": "code",
      "source": [
        "#Check how many data we have\n",
        "df.shape"
      ],
      "metadata": {
        "colab": {
          "base_uri": "https://localhost:8080/"
        },
        "id": "aRTRok70iN3b",
        "outputId": "5970bcaa-690e-405f-d40c-85b21fbee050"
      },
      "execution_count": null,
      "outputs": [
        {
          "output_type": "execute_result",
          "data": {
            "text/plain": [
              "(450, 2)"
            ]
          },
          "metadata": {},
          "execution_count": 60
        }
      ]
    },
    {
      "cell_type": "code",
      "source": [
        "#Check if there is any null data\n",
        "df.isnull().sum()"
      ],
      "metadata": {
        "colab": {
          "base_uri": "https://localhost:8080/"
        },
        "id": "CYl1lFOyiO7H",
        "outputId": "61d90a15-7082-4389-840c-a4ba75f98f0a"
      },
      "execution_count": null,
      "outputs": [
        {
          "output_type": "execute_result",
          "data": {
            "text/plain": [
              "sentence             0\n",
              "contains_bad_word    0\n",
              "dtype: int64"
            ]
          },
          "metadata": {},
          "execution_count": 61
        }
      ]
    },
    {
      "cell_type": "code",
      "source": [
        "#Check how many sentences that contains bad word\n",
        "bad_word = 0\n",
        "good_word = 0\n",
        "\n",
        "for i in range(len(df)) :\n",
        "  if df.get(\"contains_bad_word\")[i] == 1 :\n",
        "    bad_word += 1\n",
        "  else :\n",
        "    good_word += 1\n",
        "\n",
        "print(\"Senteces with Bad Word :\", bad_word)\n",
        "print(\"Senteces without Bad Word :\", good_word)"
      ],
      "metadata": {
        "colab": {
          "base_uri": "https://localhost:8080/"
        },
        "id": "Ths3EwsBir19",
        "outputId": "9601f22e-261e-4e8e-97bc-bbb6b8f344fc"
      },
      "execution_count": null,
      "outputs": [
        {
          "output_type": "stream",
          "name": "stdout",
          "text": [
            "Senteces with Bad Word : 368\n",
            "Senteces without Bad Word : 82\n"
          ]
        }
      ]
    },
    {
      "cell_type": "markdown",
      "source": [
        "From those, we find out that the dataset that we have is consist of 450 row with 0 null data. There also 82 sentences with bad word and 368 sentences without bad word"
      ],
      "metadata": {
        "id": "6RmUrXiLidJ2"
      }
    },
    {
      "cell_type": "markdown",
      "source": [
        "**Text Preparation**\n",
        "\n",
        "Generate some setup for preparing sentences dataset before building the model"
      ],
      "metadata": {
        "id": "t9P4Wri4sQgQ"
      }
    },
    {
      "cell_type": "code",
      "source": [
        "#Generate stopword\n",
        "def remove_stopwords(sentences):\n",
        "  stopwords = []\n",
        "  with open(\"/content/sample_data/stopwordbahasa.csv\", 'r') as csvfile:\n",
        "    reader = csv.reader(csvfile, delimiter=',')\n",
        "    next(reader)\n",
        "    for row in reader:\n",
        "      stopwords.append(row[0])\n",
        "  \n",
        "  sentence = sentences.lower()\n",
        "  words = sentence.split()\n",
        "  no_words = [w for w in words if w not in stopwords]\n",
        "  sentence = \" \".join(no_words)\n",
        "  \n",
        "  return sentence"
      ],
      "metadata": {
        "id": "e8fFqsgAicIx"
      },
      "execution_count": null,
      "outputs": []
    },
    {
      "cell_type": "code",
      "source": [
        "#Testing stopwords removal function\n",
        "txt = \"Pada hari seNin saya ke Pasar di dEpan rMh\"\n",
        "remove_stopwords(txt)"
      ],
      "metadata": {
        "colab": {
          "base_uri": "https://localhost:8080/",
          "height": 35
        },
        "id": "POoPCQyq5JJD",
        "outputId": "311f6fd9-2229-4831-dac2-a40761cbd1af"
      },
      "execution_count": null,
      "outputs": [
        {
          "output_type": "execute_result",
          "data": {
            "text/plain": [
              "'senin pasar rmh'"
            ],
            "application/vnd.google.colaboratory.intrinsic+json": {
              "type": "string"
            }
          },
          "metadata": {},
          "execution_count": 64
        }
      ]
    },
    {
      "cell_type": "code",
      "source": [
        "#Seperating sentences and labels\n",
        "ls = []\n",
        "label = []\n",
        "\n",
        "for i in range(len(df)) :\n",
        "  text = df.get(\"sentence\")[i]\n",
        "  text = remove_stopwords(text)\n",
        "  ls.append(text)\n",
        "\n",
        "  lbl = df.get(\"contains_bad_word\")[i]\n",
        "  label.append(lbl)"
      ],
      "metadata": {
        "id": "nexdiWU87kz_"
      },
      "execution_count": null,
      "outputs": []
    },
    {
      "cell_type": "code",
      "source": [
        "#Check the array of sentences and labels\n",
        "print(\"Sentences :\", ls)\n",
        "print(\"Labels :\", label)"
      ],
      "metadata": {
        "colab": {
          "base_uri": "https://localhost:8080/"
        },
        "id": "yKcSMqmJp2JI",
        "outputId": "b752ef68-ee6b-415b-f71e-b043cbd14bac"
      },
      "execution_count": null,
      "outputs": [
        {
          "output_type": "stream",
          "name": "stdout",
          "text": [
            "Sentences : ['jual makanan anjing (dog food) happy dog murah harga promo', 'jual grosir makanan anjing makanan kucing petshop', \"mentang-mentang anak gaul. pas dikejar anjing lari bilang 'terus gue kabur bilang wow gitu?'\", 'males kalo kerja pagi trus gak ada yg nganter, anjing', 'pagi panggil anjing aja elo motornya ugal ugalan.', 'tanya, hukumya org islam pelihara anjing? byk kalangan artis yg plihara?', 'anjing... okay', 'sok geulis anjing', 'cokelat racun anjing kucing.', 'anjing jg lo ler', 'memelihara anjing n kucing nih', 'so sweet, pemain gendong anjing pengganggu laga', 'anak anjing jantan sengaja anak anjing betina menang bermain', 'anjing putih berantem', 'kesel deh pagi2 anjing ku gigit perban kakiku', 'lancau anjing.. stressnya aku..', 'mei 2007, mourinho ditangkap diduga menghalangi polisi mengkarantina anjing peliharaannya', 'pria china tewas selfie anjing laut', 'lucu, anak anjing anak kucing?', 'new jersey department of corrections melatih anjing mengendus ponsel tersembunyi.', 'beli anjing temen. tapi, udah temen kaya anjing', 'nyepam bgt anjing', 'anjing emang ganggu ya gonggong huf', 'sih sayang sayangan udah putus eh anjing anjingan', 'cokelat kismis membunuh anjing.', 'anjing tolol ikut2an ngomongin kepercayaan orang dasar tolol urus kepercayaan kau kasian deh.', 'kali jogging sini, pas jalan sadar anjing berkeliaran', 'pengen anjing kayak gini sayang', 'hp rusak anjing ah', 'si anjing jualan obat.. wkwk', 'penyakit anjing gila rabies :penyakit menyerang anjing, kucing, kera dll', 'kehadiran orang baru, anjing kucing baru, rumah menyebabkan seekor kucing stres.', 'anjing menggonggong menggigit. orang bicara bekerja.', 'kayak anjing kucing. setia, gampang manja aja.', 'hyena terkait anjing, terkait erat kucing.', 'nyawa kaca anjing', 'woyy anjing! tolol mukamu kontolku!!!', 'anjing!! akun tolol', 'anjing aing palanya habis bocor berantem anjing kampung rebutan cewe', 'manusia satu-satunya makhluk hidup tertawa. hewan anjing kucing tertawa.', 'eh tau ni anjing kau', 'hai salam kenal (pending) | dpnya cantik, orang mana? (pending) | ngapain nih? (pending) | dasar anjing!! (delivered)', 'ibu2 bapak2 nenek2 bawa kereta bayi, diintip isinya anjing.', 'lu suka ama bilang. gak ngejelekin nama w dia. anjing', 'demen anjing sampe kaya anjing hehe', 'hyorin memiliki hewan peliharaan anjing', 'mukaa lo passs smaa bulukkk jd jadiann deh sono anjing babiii', 'ga sok ngartis sih anjing, sok cantik gaya lu...', 'cwok kaya anjing gitu', 'efek bergaul anjing kelakuan si nong jdi begitu.', 'dasar anjing', 'anjing ni org mabok stress', 'anjing bangsat tai doang', 'menjalankan mobil periksa astikan ada hewan kucing anjing yg berlindung area ban mobil.', 'si anjing si anjing', 'lo perek pemalan pejuh belaga pake hijab segala. neraka lo anjing', 'pahamilah sifat anjing luhur moral beretika tuannya, teman penjaga yg , setia', \"ok anjing anak pelacur mak sundal?i'm coming for u sooner or later.\", 'lemah seekor anjing keras gonggongannya', 'woy tony bangsat, are you liverpool shit fan? do you know liverpool is fuckin bullshit like city hah anjing?', 'anjing. si v nolak lu', 'hewan dianugerahi jin, keledai anjing', 'memiliki kakak perempuan seekor anak anjing', 'negara yurisdiksi memberlakukan sengaja melukai membunuh anjing polisi kejahatan', 'anjing ingat, bangsat dikenang, sampah merindu. wes ora peduli ~', 'flaws on your face looks beautiful with a nice camera. camera phone baling anjing.. hmmm', 'anjing jilat . temen belaiin temen . temen dijelekin eh ntahlah', 'guinness book of world records, anjing terkecil yg ada adlh seekor yorkshire terrier yg beratnya 2ons usia 2tahun', 'ada cewek cantik putih mulus sexy sayang dulunya laki haha kaga lucu anjing', 'sejenis anjing kau', 'dokter hewan anjing sakit bau telinganya.', 'jgn percaya dgn org, suci mcm anjing', 'anjing trah basenji satu-satunya anjing menggonggong/menyalak dunia.', 'temenan : gue elu | pdkt: | jadian: pipi mimi | putus: anjing goblog', 'bising ah anjing', 'nurani anjingmu kebanyakan makan anjing babi tingka lakumu ngga bedah bangsat', 'anjing biadal bangsat ulama dirimu', 'anjing?!', 'anjing laut jalannya pake perut', 'sama, gue tidur.. berharap menang.. eh anjing, taunya pas bangun kalah. ga kntl!', 'dikejar anjing pagi-pagi. nuhun.', 'sekali2 emang kudu d kasih shock therapy anjing', 'ya otak goblok, apa2 dikaitin agama, tp munafik anjing..', 'morning kalian.,moga baik2 aja deh maju lu anjing', 'woi akun anjing palalu pitak ygvkaya gitu kena pasal ? modar aja luh nyet cebong !', 'laika seekor anjing astronot angkasa dunia. diluncurkan satelit bumi buatan 1957 pemerintah rusia.', 'hipokrit anjing hahahaha', 'ga sok ngartis sih anjing, sok cantik gaya lu.', 'kaya anjing beraninya cewe', 'mantap anjing', 'muka mcm anjing', 'doang gw jejeritan anjing', 'anjing bangsat gobloq', 'hdh tolong suka ngeluh friendless, dikacangin, dsb memandang rendah udah jb gak diwaro sadar kek anjing caper lo bangsat hih geli.', 'binatang, anjing gajah pintar memahami gerakan tangan manusia.', 'malu malu anjing mah, malu malu tetep jilat sini.', 'anjing menggonggong kafilah', 'babi nangis anjing', 'kepala kau hahahahaha. anjing.', 'dalem tubuh frank ocean ada apaansih anjing suaranya bagus banget nangis 7 malem', 'bangsat polisi anjing . ya allah tolonglah yg teraniaya', 'anjing kzl', 'anak-anak anjing dalmatian terlahir murni putih polos, spot-spot berwarna hitam muncul berkembang seiring dewasa.', 'ga sok ngartis sih anjing, sok cantik gaya lu.', 'anjing ya gausa denger omongan orang bgst', 'gede banget barangnya anjing', 'kalo temen anjing gimana? boleh?', 'kaya tai congor muka lebar kaya anjing', 'salah colok anjing', 'teman kayak anjing yaallah', 'kardiograf anjing!', 'sumpah lupa kemarin ngapain aja anjing', 'apanya dibaca anjing!! kalah kalah aja, alasan bacot!!', 'mukanya kaya anjing', 'anjing bgst omongan cowok cowok kumpul, ehh gak kebanyakan temen gitu, si iya', \"gue ga melihara tp banya anjing koceng online aja pas ngeliat seneng bgt, kalo dibolehin melihara beneran ya:'\", \"ada ada aja supir angkot w blg kiri, tp bgt ga berenti2 trs 'wey anjing' ga waras bgt dah\", 'spngetahuan gw sih klu ada anjing d dlm drmh malaikat jg gk msuk.', 'udah 18x masuk twiter game anjing', 'anjing tukang fitnah lo, pendukung yg didukung aja, tukang hoax fitnah!!', 'kesel banget anjing ga inget inget kemaren mikirin huhhhhhhhhhh gedek banget', 'pokoknya anjing yg lebay. bodo makan rumor kaya gitu, bub gua sekarang!!! gamau mutual kaya gitu. tai.', 'golden retriever anjing jaga rumah. aja dng maling mungkin. gonggong sebentar buntutnya menari2.', 'lelaki bangsat lelaki kardus lelaki anjing !!! kaloo ceweee lu gak gosahh dipaksaa anjeng !!! genugg nihh !!!', 'apasi anjing terserah gue ga suka unfoll bebas', 'lu gua gendong anjing', 'lari jantung pecah anjing', 'ngatain orang sok inggris lu men, kalo bilang makasih tetep bilang thanks bro, ah munafik anjing', 'muka lo udah kaya berak anjing tong!', 'nyari mutual twitter ig ena nyari twitter sumpa ig udah follbck unfoll anjing emang', 'masi pagi si anjing', 'peler anjing... bacot lo anjing... duel ama gw lo anjing...', 'kasih gua pencerahan, nikmatnya lari pagi dihari minggu ngeliatin cewek bening bawa anjing?', 'kenapasih org org rumah kek anjing bgt ini.', 'folow anjing komen doang', 'kesel bacanya anjing, kaya baca puisi', 'emosi nih kucing tetangga , hobinya mengendap2 masuk balkon rumah nyolong makanan anjing', 'astaga pagi pay kau ku anjing', 'sumpah gw kesel dah lihat video ini, mencari pendidikan berkarakter pendidikan barbar anjing!!!', 'anjing ah ketawaaa', 'anjing tolol lu goblog', 'emang anjing ini, biadab kali polisi anjing', 'tuhan lu berantem mulu anjing ngapain sih', 'nurani mereka.. bkn manusia tp binatang!! anjing..', 'hijrah tp ngeliatin video polisi jd kaga jadi, kaya anjing', 'woy anjing anjing kurapan.. elu emang bangsat .... mampus kau liat aja', 'pacar anjing beda ya, anjing gak tau sabar always nungguin majikannya pulang pacar capek nungguin orang yg disayang', 'kayak nonton bokep munafik lo anjing.', 'beda 1000 anjing', 'pukimak india babi ni', 'apasi anjing', 'ada aja anjing yg gue ketawa pagi pagi gini,asu wkwkwk', 'pagi awali dengan, dikejar anjing...', 'anjing pantesan barang yg dikirim gua rusak!!', 'pagi pagi dah emosi anjing', 'tolol anjing', 'hahaha orang dirumah ninggal aing sakit, pergi liburan jogja hahaha , anjing', 'sampah si anjing', 'kara mengumpat anjing tai babi', 'dingin bat anjing, bodo ga mandi aja gua', 'anjing pagi, emosi gw bacanya bales nder: kontol lu najis anjing amit amit', 'malu anjing. pake ojek tuh bayarnya pakai gopay.', 'nitip anjing, fotonya nemu reddit', 'ganggu bgt anjing pengen gue penggal', 'anjing yg bawa mobilnya, buta matanya', 'capek ah bangsat bikin males pagi2 aja anjing lo', 'anjing gak main twitter kak', 'bloon anjing', 'anjing kau. hina mama kau.', 'anjing lo hahahahah', 'anjing ngakak', 'yeee anjing,udah livestream 1 jam cancel karna cuaca', 'takut anjing = cynophobia', 'bisalah om, meteka menggonggong bicaranya, gaya anjing peking', 'dih anjing bgt setannya ruqyah', 'sombong nih org anjing', 'anjing sumpahw td yg reply mba tara. ganti dp om2 buru', 'culun bet w, anjing', 'keripik kaca maksud gua anjing suuzon mulu lu gua', 'bener banget mba, suka gangguin anjing tetangga dikejernya', 'kalo g ada anjing sm bgst tu ky aja ngetik grup', 'lgbt lgbt tai anjing, kaga ngedukung dibilang ga berperikemanusiaan. tai', 'loh, mulainya jam stengah 7? kek sih anjing sekolahku', 'wkwkwkwk emg ngapain anjing????org ga ngapa2in', 'anjing kek gada akhlak bgt', 'dunia nyata ada tokoh liciknya anjing kucing.', 'anjing ngespill tp males', 'anjing diem aja abangnya tolol. udah mending kl ada ginian gausah nonton. biar berenti abangnya jg cari nafkah dgn aja.', 'dasar anak anjing', 'mati aja lo anjing', 'kalo cewe cantik gak ngomong kasar,berhubung gak cantik trobos ajalah anjing', 'yg goodlooking tpi sok2 an insecure biar si anjing?', 'pagi udah kayak anjing aja hidup', 'weh anjing gue diem doang disalahin', 'gaada otak anjing', 'anjing asli goblok udh gua kasih tau manggil pake real name gua aja. tolol. gabisa bgt mencoba belajar hargain orang', 'guys sctv teh nct beneran indo gimana? gua kesel banget anjing nct perform lagu ngapain diselipin reaction artis indo ah gajelas bgt', 'janji anjing babi bangsat', 'kecewa sctv scene ga ngotaknya anjing dipikir dih', 'sumpah ya tuh udah ganteng pake item2, kameranya ga gaya, eh si anjing nyorot audience', 'oh elu anjing, pantesan. so nice hap nya, kenalin sm gua', 'anjing banget ya pagi2 gw care temen sangka jelek. kalo ga kuat minum gausah minum udh mabok mah berabe njing!!!', 'bodo anjing', 'ada kondisi dimana khawatirin si dia, seneng-seneng lain. babi namanya.', 'tu ah, babi betul. kau din', 'ups... muke babi ngepet ditayangin lg', 'pagi pagi dah babi', 'babi ngepet !!!', 'babi la cok samaaaa', 'dasar babi', 'caper tolol babi tunggu semester', 'bangga tinggal nyebutin... aneh nih otak babi', 'kukira kau rumah kandang babi', 'apasih ngentot kontol asu babi memek, ginian aja lu share base. anjay.', 'umur segini si babi', 'cinta monyet cie wkwk', 'heh kontol, jan sok pemes lu rp, muka kek memek, org tua lu kek monyet, agama lu aje agama kontol', 'orang monyet revolusi manusia monyet manusia berjalan tegak.', 'lo maenin cewe? gue kasih monyet cewe biar puas', 'harapan km sih thn monyet api ini? share harapan km bareng bear brand', 'sifat monyet yg gesit pintar,tahun monyet api penuh keceriaan, optimisme semangat bareng bear brand', 'alay lo monyet.', 'shio baekhyun monyet', 'topeng monyet ... tontonan udah jarang banget . peminatnya', 'gue gatau lo abis ketiban anak monyet begini, terhura nih gue. thankyou so much looooo njir', 'disaat serius nya main-main,disaat main-main nya serius. dasar cinta monyet', 'monyet congrats woi', 'pacar monyet. ko hobinya nge gantungin mulu. udah putusin aja makan hati', 'doktrin darwin iman anda, buktikan monyet yg ada skrg berbicara', 'bot temennya dora monyet ya?', 'tinggal indonesia, barrack obama memelihara monyet bernama tata.', '_waktu sekolah mah actual cinta monyet haha. yakan ga kasian hati nutrijell gue yah gue alay', 'terlibat cinta monyet, abg pacaran pohon mencari kutu kepala', 'suka dia, suka. sih mama bilang cinta monyet', 'si monyet bangsat, gue coba. emng situ aja yg keganjenan sok polos babiiii', 'habis beli monyet, mukanya mantan', 'cinta monyet anak-anak lucu konyol, perasaan cintanya tulus pake modus.', 'boneka monyet yg slalu menemani hari2ku', 'sains yg hebat, membantu anak2 kita, bhw usul manusia bkn dr keturunan monyet tp keagungan ciptaan tuhan', 'monyet ngomong monyet ah lu', 'diam monyet', 'jd nih orang, keturunan monyet.. liat aja mukanya', 'kecuali manusia monyet, mamalia buta warna', 'cinta monyet suka2 nilai2 fisik yg disukai, cinta hewan sesamanya. cinta sejati cinta pd anaknya penuh kasih.', 'ngarepin banjir ngga ada aktifitas. egois banget, kaya monyet', 'monyet lu', 'monyet emang trus nyerang nu banser ulama nu ,semakin ajar emang', 'elo monyet', 'ni monyet pake dp kerja nya gibulin orang2', 'monyet terbang angkasa albert ii. terbang 83 mil ruang angkasa 14 juni 1949.', 'nunggu lebaran lu, lebaran monyet', 'gak ngerti knp sih skrg jd musuhan gini?? pdhl srg main sama2. krn beda? manusia monyet, tp salahkah kt berteman??', 'pesanan apa? coba belagak monyet...', 'ini, ilmuwan as mempelajari otak seekor monyet mengontrol tubuh monyet lainnya.', 'monyet nakal. macem', 'mimpi tercyduk gara gara si monyet', 'eh nyet... kalo lu survey nya kandang monyet, monyet yg menang....', 'monyet panda lucu mana?', 'monyet ya gitu om, nya yg culas, orang yg dicela bodoh, namanya gitu?', 'yg monyet ky yg nanya', 'nyettt monyet goblog', 'titid monyet lu', 'pendapat otak mu..monyet. babi. anjing..kau..', 'ngakak gw serius lucu banget monyet!!!', 'anjing tai babi monyet manusia goblok kesel guaaa weh pengen gua banting', 'si monyet dimenangkan kecurangan..', 'ngapain sih monyet', 'rusuh monyet! wkwkwk', 'benci player sun kelakuan kaya monyet', 'duit ada kantong pas cinta monyet.', 'gajelas kalo jd monyet', 'gak dikatain monyet kelakuan monyet', 'pengen artis sinetron kagak laku, dandannya udah heboh banget kayak monyet didandani ribet', 'lu monyet', 'yaallah bagus. btw salpok seprei monyet, samaan kitaaaa', 'monyet ya proses mah bgst', 'gw mandang fisik karna oke taunya buriq ajg, deh lu monyet.', 'ada aja makhluk tolol kayak lo, heran. pekara hoax nya engga. lo nyadar ga sih bego gambarnya serem?', 'wooy monyet lu gk tau diri, kasih pisang sambel', \"ak ngikutin heart series monyet cantik doang, yg ggs cjr nontonnya kadang' doang\", 'udah makan tai blum lu nyet, monyet', 'haha otak bodoh, otak bodoh, tukang makan tai, anak monyet, tukang sodomi, hahaha', 'lu monyet mnusia', 'monyet lu!!!', 'elu nyet,lu monyet.', 'shio mu apa? babi? monyet?', 'beli monyet kyk george dimana ya. asik kali ya monyet.', 'goblog pas sd sih. polos banget pas dibego-begoin. cinta monyet anj', 'sapa monyet', 'monyet mondar mandir kerja... dasar presiden sialan...', 'pantat monyet kadrun', 'diam nyet, have a nice day nyet, dasar monyet', 'gosa ngegas nyet, have a nice day nyet, dasar monyet', 'gak monyet', 'doger monyet es doger ?', 'kemasukan omongan alias omongan monyet ya?', \"halus.. penginnya ludahi muka gus munafik bilang 'binatang kau..!' (anjing, babi, monyet, dll sdh terwakili didalamnya)\", 'bacot lu,monyet barbar.', 'susah klo ngomong ama jembut monyet...... mulut kaya bol yg tai.... gk inget ama janji lo yg kemaren..... dasar munafik lo peler kuda.... ucapan gk dipegang', 'bahasa inggrisnya anjing ya kunyuk lo!', 'anjing ni akun ...lu ngapain si nge-share begini… dasar otak miskin', 'hyukjae bgst, otak gue traveling kemana-mana ye kunyuk dikasih emot begituan juga.', 'bajingan u semua! pagi2 teriak. pengen gw tabokin tu mulut2 kalian. tdk sanggup hidup dngn manusia2 aneh spt kalian!!', 'mampus loe perek duri2x dunia ,bajingan eneg abis', 'dasar bajingan...gak dipercaya omongannya...', 'grup lu so asik najis. isinya cabe hahaha bajingan..', 'cowok jaman tuh bajingan !!', 'bajingan', 'btp gak kelebihan, kecuali pemimpin yg suka kotor tai,, bajingan,keparat..., anjink,,, dll memalukan', 'intinya lo kaya bajingan!!!', \"bajingan subuh' dapet chat orang lgi ngedumel gara' tanda nya gak ketik\", 'udah tau bangsat, udh tau brengsek, udh tau bajingan. tetep aja', 'bajingan !!! berasa bajingan !!!', 'gue ga balikan! gue laku! orang yg lo! lo melebihi bajingan!', 'banggakan polisi ??? bajingan bajingan', 'hah ngechat cuman bilang itu? bajingan banget hidup loe', 'lu anak koq ajarin pake baju kaya pelacur,? gimana si elu! bajingan banget lu endut!', 'idiot tp bajingan anjing taik babi nenek lu kakek lu bokap lu nyokap lu anjing', 'yg loh bajingan nya sial', 'dasar bajingan!', 'muka nipu yaa, muka polos bajingan hhhh', 'cocok ko :) bajingan !!', 'anjing bajingan bangsat seri we goblog tai', 'kiper bajingan!', 'berkuasa orang2 keparat bajingan semua....,hancuuurrrr', 'bajingan sampeyan', 'bajingan wasitnya ckckckck', 'fpi isinya org bajingan tp pengecut semua....', 'lonte bajingan !!!', 'dasar bajingan. hilang kepercayaan berkat kau sial', 'dsar wanita pelacur pembhong ingkar janji pendusta bajingan', 'bandit tua, bajingan tengik, cahaya kian meredup, kuasa menahan beban hidupnya sendiri.', 'amin bajingan bajigur. dasar biji', 'dasar bajingan... gub wagub dki skr', 'maaf habis bikin ulah hina ulama mas bego bajingan, bangsat kau', 'bajingan munafik emg hrs kapok. persekusi cikupa, gak terbukti mesum ditelanjangin!', 'habis kesambet lu sok bijak. dasar tai,nama lu bagus tp sifat lu bajingan', 'bajingan goblog!', 'bedain bajingan yg nangkap bajingan gak ?? goblok lu cok', 'bajingan bolt ini.. koneksi kenceng mesti restart jam....', 'luhut si muka bajingan skrng perusahaany bnyk duit dr mn', 'luhut muka bajingan tengik perusahaanya bnyk skrng duitny dr mn yaaaa', 'ahhhh bajingan, kontol, asu, sing asu ki koe! sak bojomu! sing bosok ki koe sak bojomu.', 'tim kontoollll anjeeeeng bajingan memek bangsaaat', 'nyinyir...dasar bajingan', 'hahahahahahahahahaha bajingan lo', 'dasar bajingan lemah', 'kalo bajingan mesum pengecut', 'bacot busuk eh tolol gak ada yg memggunakan bus cok, mobilisasi pakai bak terbuka motor', 'kejahatan biadab, mengeroyok membunuh orang berkurang. bajingan biadab!', 'mamakmu pelacur bajingan. kau buktikan kau anak pelacur bajingan. bagaimana?', 'emang dasar bajingan tau malu loo', 'fuck..benar!! ustad bajingan!! sialan!!', 'halah kontol jembut asu bajingan', 'berhenti anak biadab geser anak bajingan', 'gak mukul kali, dasar manusia jenis kau mbak, seandainya keluarga saudara nya gituin goblok kau bajingan kau menghargai orang', 'bajingan emang', 'ya emang kalo ga brengsek ya bajingan gaada bedanya berseragam swasta aja anjeeeng', 'bajingan wkwkwk', 'bener2 bajingan, bangsattt, setan, anjing, babiiiiii, keboo iblisssss duuhhhh pengen gueh kunyaaah anak² setan ituuuu', 'anggap anjing, iya anjing asu, asu ndhasmu. bajingan', 'si bangsat lg mancing, emang bajingan tu orang.', 'pengendara bangsat, bajingan !', 'bajingan ajg haha', 'anak bajingan! ajar kamu! mending gapunya anak sekalian.', '_ asu bajingan celeng', 'bajingan asu pantek benci banget cowok!!!!', 'anak bajingan', 'emang nya asu malu...???', 'asu ngakak', 'kontol asu', 'takut dibegal asu', 'anak asu', 'bgst orang yg ngutang gua kebawa sampe mimpi,mana gk bayar asu', 'dih sokan bgt jd cowok. pala lo ga sm cewek, bkn ga cukup, lo aja yg maruk asu.', 'bjir ada ya orang kek gitu, tolol asu maju', 'bangsat lu', 'udah dikasih hati baik-baikin nusuk belakang. bangsat emang ya !!!', 'menyalak lg woi bangsat', 'lu ko tmn dpn gua keliatan ? gua lu lugu2 bangsat sih', 'bajingan...bangsat... lo siapa-siapa, sombong banget!!!!', 'teman makan teman teman ku panggil bangsat', 'lo munafik yah baik-baikin jelek-jelekin. bangsat !', 'teman makan teman, hhhaaa.. bangsat loe', 'korupsi , !! bangsat', 'kamar gua kebocoran jdi banjir bangsat', 'pacar yg baik, nggk kyak skrng brutal sprti bangsat!!', 'tai kayak member lu bangsat', 'eh bangsat ribut yuk gua !!', 'anjing! bangsat emg!', 'mood ancur bangsat masi pagi iniiii', 'benci plk tengok bangsat ni fvck', 'nyesel gue ngestalk anjing! bangsat', 'dasar cowok bangsat!!', 'ga so islami kalo kelakuan bangsat! gua ga seneng lu', 'kartu merah yg gk pntng. bangsat', 'bangsat bas. kimak', 'sumpah bangsat', 'bangsat kau penipu,anjing tobat lo ajal menjemput', 'woi apa2an bangsat banget bangun2 beritanya begini. fuck 2016!!! fuck!!!', 'orang sih gitu sifah , hati jelek bnget!!!! taik lo anjing bangsat mampus ajah lo!!!', 'bangsat!! bangsat!! bangsat!!', 'gue sih pengennya naburin badan emak lo babi! kontol bacot lo setan iblis lo bangsat!', 'weh anjing, bangsat bacot lo kontol!', 'ulama bangsat', 'aswww bangsat', 'temen lo? gak ada lo gue gak rugi kali bangsat!', 'sabtu minggu masuk siangan jam 6 dah dibangunin ih bangsat anj', 'dosen bangsat', 'lo bejat, bangsat, brengsek', 'penipu nih bangsat', 'ketiduran, bangun bangun pengen maki. bangsat.', 'bangsat kntl orang lo.', 'hih dasar bangsat idolamu seprintilan aja udah songong ya', 'cabul bangsat.. anjing pepek kontol', 'jijik bangsat pagi ah', 'bejat,bangsat,biadab tuh orang', 'anjir, bangsat kau', 'brengsek, bangsat, goblok, jancuk, bacot', 'bangsat si tai wkwk', 'manusia kek gini nya kebiri ! bangsat bejat', 'bangsat alay tenan asu', 'bangsat. story ig isinya rang orang spoiler endgame semua.', 'dasar bangsat sialan', 'ya emang bangsat', 'njirrr tidur bangsat!', 'mantan bangsat!', 'bangsat aja gak merhatiin sampe situ cuk ??', 'orang tua,didik kau anak,bangsat', 'halah bangsat', 'kalo tau malu gaakan nge bangsat', 'mampus lu bangsat. cuekin ibu.. ngabisin kuota gue lu kimaq', 'bangsat cuti dah habis', 'bangsat homo semua,, kirain yg komen cewe cowo anjeng,, cewe gak respon asu', 'dibesarin diri,terima kasih ga hadir hidup kami. bangsat anjg', 'potong aja k9ntolnya tuh...bangsat nih org', 'untung puasa klo gak udah gua maki lo anjeeng bangsat', 'jijik bgt bangsat', 'sok bijak, bangsat!', 'anjing absen gua kosong 2 hari, absen bangsat', 'bacol gpp klo dijual ya lo emg bangsat anjing', 'ketrigger bangsat rcti kontol', 'anjing gw blm tidur bangsat, pas tidur telpon bokap bangsat', 'pagi jay bangsat lupa sarapan nyet', 'asu burung gembrot gw ga ngapa2in tuduh robot bangsat', 'duh anjing nama lo kyk gue wkwkwkwk bangsat', 'susah benerrr bangsat', 'aaaa bangsat ketauan boong', 'eneg bangsat', \"sm tuh dalem hati gak 'salah mulu gue bangsat' gtu ya anying, ngakak bgt pda suuzon\"]\n",
            "Labels : [0, 0, 0, 1, 1, 0, 0, 1, 0, 1, 0, 0, 0, 0, 1, 1, 0, 0, 0, 0, 1, 1, 0, 1, 0, 1, 0, 0, 1, 1, 0, 0, 0, 0, 0, 1, 1, 1, 0, 0, 1, 1, 0, 1, 1, 0, 1, 1, 1, 1, 1, 1, 1, 0, 1, 1, 0, 1, 0, 1, 1, 0, 0, 0, 1, 1, 1, 0, 1, 1, 0, 1, 0, 1, 1, 0, 1, 1, 0, 1, 0, 1, 1, 1, 1, 0, 1, 1, 1, 1, 1, 1, 1, 1, 0, 1, 0, 1, 1, 1, 1, 1, 0, 1, 1, 1, 1, 1, 1, 1, 1, 1, 1, 1, 1, 1, 1, 0, 1, 1, 1, 1, 0, 1, 1, 1, 1, 1, 1, 1, 1, 1, 0, 1, 1, 1, 0, 1, 1, 1, 1, 1, 1, 1, 1, 1, 0, 1, 1, 1, 1, 1, 0, 1, 1, 1, 1, 1, 1, 1, 1, 1, 0, 1, 1, 1, 1, 1, 1, 1, 1, 1, 0, 1, 1, 1, 1, 1, 1, 0, 1, 1, 1, 1, 1, 0, 1, 1, 1, 1, 1, 1, 1, 1, 1, 1, 1, 1, 1, 1, 1, 1, 1, 1, 1, 1, 1, 1, 1, 1, 1, 1, 1, 1, 1, 0, 1, 0, 1, 0, 0, 1, 0, 0, 0, 0, 1, 1, 0, 0, 0, 0, 0, 0, 1, 1, 0, 0, 0, 1, 1, 1, 0, 0, 1, 1, 1, 1, 1, 0, 1, 1, 1, 0, 1, 1, 1, 0, 1, 1, 1, 1, 1, 1, 1, 1, 1, 1, 1, 0, 1, 1, 1, 1, 0, 1, 1, 1, 1, 0, 1, 1, 1, 1, 1, 0, 0, 1, 1, 1, 1, 1, 1, 1, 0, 1, 0, 1, 1, 1, 1, 1, 1, 1, 1, 1, 1, 1, 1, 1, 1, 1, 1, 1, 1, 1, 1, 1, 1, 1, 1, 1, 1, 1, 1, 1, 1, 1, 1, 1, 1, 1, 1, 1, 1, 1, 1, 1, 1, 1, 1, 1, 1, 1, 1, 1, 1, 1, 1, 1, 1, 1, 1, 1, 1, 1, 1, 1, 1, 1, 1, 1, 1, 1, 1, 1, 1, 1, 1, 1, 1, 1, 1, 1, 1, 1, 1, 1, 1, 1, 1, 1, 1, 1, 1, 1, 1, 1, 1, 1, 1, 1, 1, 1, 1, 1, 1, 1, 1, 1, 1, 1, 1, 1, 1, 1, 1, 1, 1, 1, 1, 1, 1, 1, 1, 1, 1, 1, 1, 1, 1, 1, 1, 1, 1, 1, 1, 1, 1, 1, 1, 1, 1, 1, 1, 1, 1, 1, 1, 1, 1, 1, 1, 1, 1, 1, 1, 1, 1, 1]\n"
          ]
        }
      ]
    },
    {
      "cell_type": "markdown",
      "source": [
        "**Train Validation Split**\n",
        "\n",
        "Splitting the dataset into set of training and validation list"
      ],
      "metadata": {
        "id": "sdm8hOe0wKHS"
      }
    },
    {
      "cell_type": "code",
      "source": [
        "def train_val_split(sentences, labels, training_split):\n",
        "  train_size = int(len(sentences)*training_split) #Determine split proportion\n",
        "\n",
        "  #Define training sentences and labels\n",
        "  train_sentences = sentences[:train_size]\n",
        "  train_labels = labels[:train_size]\n",
        "\n",
        "  #Define validation sentences and labels\n",
        "  val_sentences = sentences[train_size:]\n",
        "  val_labels = labels[train_size:]\n",
        "\n",
        "  return train_sentences, train_labels, val_sentences, val_labels"
      ],
      "metadata": {
        "id": "XzU6ZsF7ruAm"
      },
      "execution_count": null,
      "outputs": []
    },
    {
      "cell_type": "code",
      "source": [
        "#Check the function\n",
        "train_sentences, train_labels, val_sentences, val_labels = train_val_split(ls, label, TRAINING_SPLIT)\n",
        "\n",
        "print(\"Training Sentences :\", len(train_sentences))\n",
        "print(\"Training Labels :\", len(train_labels))\n",
        "print(\"Validation Sentences :\", len(val_sentences))\n",
        "print(\"Validation Labels :\", len(val_labels))"
      ],
      "metadata": {
        "colab": {
          "base_uri": "https://localhost:8080/"
        },
        "id": "KFAel1-ZCw-C",
        "outputId": "c90dff0a-f28a-477c-f65b-264e0b2b4b82"
      },
      "execution_count": null,
      "outputs": [
        {
          "output_type": "stream",
          "name": "stdout",
          "text": [
            "Training Sentences : 405\n",
            "Training Labels : 405\n",
            "Validation Sentences : 45\n",
            "Validation Labels : 45\n"
          ]
        }
      ]
    },
    {
      "cell_type": "markdown",
      "source": [
        "**Tokenization**"
      ],
      "metadata": {
        "id": "f9aBC8ueDaM_"
      }
    },
    {
      "cell_type": "code",
      "source": [
        "#Build the tokenizer\n",
        "def fit_tokenizer(train_sentences, oov_token) :\n",
        "  tokenizer = Tokenizer(num_words=len(train_sentences), oov_token=oov_token)\n",
        "  tokenizer.fit_on_texts(train_sentences)\n",
        "\n",
        "  return tokenizer"
      ],
      "metadata": {
        "id": "ils7vXD9Dck4"
      },
      "execution_count": null,
      "outputs": []
    },
    {
      "cell_type": "code",
      "source": [
        "#test function\n",
        "tokenizer = fit_tokenizer(train_sentences, OOV_TOKEN)\n",
        "word_index = tokenizer.word_index\n",
        "VOCAB_SIZE = len(word_index)\n",
        "\n",
        "print(f\"Vocabulary contains {VOCAB_SIZE} words\\n\")\n",
        "print(\"<OOV> token included in vocabulary\" if \"<OOV>\" in word_index else \"<OOV> token NOT included in vocabulary\")"
      ],
      "metadata": {
        "colab": {
          "base_uri": "https://localhost:8080/"
        },
        "id": "Riu1fJ9oDrwF",
        "outputId": "0d328569-7c29-48b2-ed22-b1b69594b4e6"
      },
      "execution_count": null,
      "outputs": [
        {
          "output_type": "stream",
          "name": "stdout",
          "text": [
            "Vocabulary contains 1376 words\n",
            "\n",
            "<OOV> token included in vocabulary\n"
          ]
        }
      ]
    },
    {
      "cell_type": "code",
      "source": [
        "#Build padding and truncating\n",
        "def seq_pad_and_trunc(sentences, tokenizer, padding, truncating, maxlen):\n",
        "  sequences = tokenizer.texts_to_sequences(sentences)\n",
        "  pad_trunc_sequences = pad_sequences(sequences, padding=padding, maxlen=maxlen,truncating=truncating)\n",
        "\n",
        "  return pad_trunc_sequences"
      ],
      "metadata": {
        "id": "Kz52In2wErAn"
      },
      "execution_count": null,
      "outputs": []
    },
    {
      "cell_type": "code",
      "source": [
        "train_pad_trunc_seq = seq_pad_and_trunc(train_sentences, tokenizer, PADDING, TRUNCATING, MAXLEN)\n",
        "val_pad_trunc_seq = seq_pad_and_trunc(val_sentences, tokenizer, PADDING, TRUNCATING, MAXLEN)\n",
        "\n",
        "print(f\"Padded and truncated training sequences have shape: {train_pad_trunc_seq.shape}\\n\")\n",
        "print(f\"Padded and truncated validation sequences have shape: {val_pad_trunc_seq.shape}\")"
      ],
      "metadata": {
        "colab": {
          "base_uri": "https://localhost:8080/"
        },
        "id": "-oovhrSqE_Za",
        "outputId": "2b48ac27-fe25-4e70-be4e-89b3cd441e79"
      },
      "execution_count": null,
      "outputs": [
        {
          "output_type": "stream",
          "name": "stdout",
          "text": [
            "Padded and truncated training sequences have shape: (405, 16)\n",
            "\n",
            "Padded and truncated validation sequences have shape: (45, 16)\n"
          ]
        }
      ]
    },
    {
      "cell_type": "code",
      "source": [
        "train_labels = np.array(train_labels)\n",
        "val_labels = np.array(val_labels)\n",
        "train_pad_trunc_seq = np.array(train_pad_trunc_seq)\n",
        "val_pad_trunc_seq = np.array(val_pad_trunc_seq)"
      ],
      "metadata": {
        "id": "gUim8YO1qDaB"
      },
      "execution_count": null,
      "outputs": []
    },
    {
      "cell_type": "code",
      "source": [
        "def create_model(num_words, embedding_dim, maxlen):\n",
        "  model = tf.keras.Sequential([tf.keras.layers.Embedding(num_words, embedding_dim, input_length=maxlen),\n",
        "                               tf.keras.layers.GlobalAveragePooling1D(),\n",
        "                               tf.keras.layers.Dense(24, activation='softmax'),\n",
        "                               tf.keras.layers.Dense(1, activation='sigmoid')\n",
        "                               ])\n",
        "  \n",
        "  model.compile(loss='binary_crossentropy',\n",
        "                optimizer='adam',\n",
        "                metrics=['accuracy'])\n",
        "  \n",
        "  return model"
      ],
      "metadata": {
        "id": "7tptwwa6X586"
      },
      "execution_count": 166,
      "outputs": []
    },
    {
      "cell_type": "code",
      "source": [
        "model = create_model(NUM_WORDS, EMBEDDING_DIM, MAXLEN)\n",
        "history = model.fit(train_pad_trunc_seq, train_labels, epochs=200, validation_data=(val_pad_trunc_seq, val_labels))"
      ],
      "metadata": {
        "id": "l2KvkW7hhofT",
        "colab": {
          "base_uri": "https://localhost:8080/"
        },
        "outputId": "be8c8c88-ca23-49fb-d8be-b509b4bd9256"
      },
      "execution_count": 171,
      "outputs": [
        {
          "output_type": "stream",
          "name": "stdout",
          "text": [
            "Epoch 1/200\n",
            "13/13 [==============================] - 1s 26ms/step - loss: 0.6734 - accuracy: 0.7975 - val_loss: 0.6486 - val_accuracy: 1.0000\n",
            "Epoch 2/200\n",
            "13/13 [==============================] - 0s 8ms/step - loss: 0.6624 - accuracy: 0.7975 - val_loss: 0.6293 - val_accuracy: 1.0000\n",
            "Epoch 3/200\n",
            "13/13 [==============================] - 0s 6ms/step - loss: 0.6508 - accuracy: 0.7975 - val_loss: 0.6070 - val_accuracy: 1.0000\n",
            "Epoch 4/200\n",
            "13/13 [==============================] - 0s 7ms/step - loss: 0.6378 - accuracy: 0.7975 - val_loss: 0.5826 - val_accuracy: 1.0000\n",
            "Epoch 5/200\n",
            "13/13 [==============================] - 0s 7ms/step - loss: 0.6237 - accuracy: 0.7975 - val_loss: 0.5556 - val_accuracy: 1.0000\n",
            "Epoch 6/200\n",
            "13/13 [==============================] - 0s 7ms/step - loss: 0.6092 - accuracy: 0.7975 - val_loss: 0.5277 - val_accuracy: 1.0000\n",
            "Epoch 7/200\n",
            "13/13 [==============================] - 0s 7ms/step - loss: 0.5948 - accuracy: 0.7975 - val_loss: 0.5020 - val_accuracy: 1.0000\n",
            "Epoch 8/200\n",
            "13/13 [==============================] - 0s 7ms/step - loss: 0.5818 - accuracy: 0.7975 - val_loss: 0.4789 - val_accuracy: 1.0000\n",
            "Epoch 9/200\n",
            "13/13 [==============================] - 0s 10ms/step - loss: 0.5704 - accuracy: 0.7975 - val_loss: 0.4583 - val_accuracy: 1.0000\n",
            "Epoch 10/200\n",
            "13/13 [==============================] - 0s 14ms/step - loss: 0.5606 - accuracy: 0.7975 - val_loss: 0.4390 - val_accuracy: 1.0000\n",
            "Epoch 11/200\n",
            "13/13 [==============================] - 0s 14ms/step - loss: 0.5521 - accuracy: 0.7975 - val_loss: 0.4225 - val_accuracy: 1.0000\n",
            "Epoch 12/200\n",
            "13/13 [==============================] - 0s 14ms/step - loss: 0.5446 - accuracy: 0.7975 - val_loss: 0.4091 - val_accuracy: 1.0000\n",
            "Epoch 13/200\n",
            "13/13 [==============================] - 0s 11ms/step - loss: 0.5383 - accuracy: 0.7975 - val_loss: 0.3975 - val_accuracy: 1.0000\n",
            "Epoch 14/200\n",
            "13/13 [==============================] - 0s 12ms/step - loss: 0.5327 - accuracy: 0.7975 - val_loss: 0.3862 - val_accuracy: 1.0000\n",
            "Epoch 15/200\n",
            "13/13 [==============================] - 0s 16ms/step - loss: 0.5270 - accuracy: 0.7975 - val_loss: 0.3757 - val_accuracy: 1.0000\n",
            "Epoch 16/200\n",
            "13/13 [==============================] - 0s 9ms/step - loss: 0.5210 - accuracy: 0.7975 - val_loss: 0.3659 - val_accuracy: 1.0000\n",
            "Epoch 17/200\n",
            "13/13 [==============================] - 0s 11ms/step - loss: 0.5150 - accuracy: 0.7975 - val_loss: 0.3557 - val_accuracy: 1.0000\n",
            "Epoch 18/200\n",
            "13/13 [==============================] - 0s 4ms/step - loss: 0.5088 - accuracy: 0.7975 - val_loss: 0.3450 - val_accuracy: 1.0000\n",
            "Epoch 19/200\n",
            "13/13 [==============================] - 0s 5ms/step - loss: 0.5022 - accuracy: 0.7975 - val_loss: 0.3356 - val_accuracy: 1.0000\n",
            "Epoch 20/200\n",
            "13/13 [==============================] - 0s 5ms/step - loss: 0.4955 - accuracy: 0.7975 - val_loss: 0.3274 - val_accuracy: 1.0000\n",
            "Epoch 21/200\n",
            "13/13 [==============================] - 0s 5ms/step - loss: 0.4887 - accuracy: 0.7975 - val_loss: 0.3212 - val_accuracy: 1.0000\n",
            "Epoch 22/200\n",
            "13/13 [==============================] - 0s 4ms/step - loss: 0.4813 - accuracy: 0.7975 - val_loss: 0.3141 - val_accuracy: 1.0000\n",
            "Epoch 23/200\n",
            "13/13 [==============================] - 0s 4ms/step - loss: 0.4737 - accuracy: 0.7975 - val_loss: 0.3070 - val_accuracy: 1.0000\n",
            "Epoch 24/200\n",
            "13/13 [==============================] - 0s 4ms/step - loss: 0.4657 - accuracy: 0.7975 - val_loss: 0.3026 - val_accuracy: 1.0000\n",
            "Epoch 25/200\n",
            "13/13 [==============================] - 0s 5ms/step - loss: 0.4570 - accuracy: 0.7975 - val_loss: 0.2968 - val_accuracy: 1.0000\n",
            "Epoch 26/200\n",
            "13/13 [==============================] - 0s 5ms/step - loss: 0.4482 - accuracy: 0.7975 - val_loss: 0.2909 - val_accuracy: 1.0000\n",
            "Epoch 27/200\n",
            "13/13 [==============================] - 0s 4ms/step - loss: 0.4391 - accuracy: 0.7975 - val_loss: 0.2841 - val_accuracy: 1.0000\n",
            "Epoch 28/200\n",
            "13/13 [==============================] - 0s 5ms/step - loss: 0.4299 - accuracy: 0.7975 - val_loss: 0.2761 - val_accuracy: 1.0000\n",
            "Epoch 29/200\n",
            "13/13 [==============================] - 0s 5ms/step - loss: 0.4207 - accuracy: 0.7975 - val_loss: 0.2694 - val_accuracy: 1.0000\n",
            "Epoch 30/200\n",
            "13/13 [==============================] - 0s 4ms/step - loss: 0.4117 - accuracy: 0.7975 - val_loss: 0.2633 - val_accuracy: 1.0000\n",
            "Epoch 31/200\n",
            "13/13 [==============================] - 0s 4ms/step - loss: 0.4023 - accuracy: 0.7975 - val_loss: 0.2561 - val_accuracy: 1.0000\n",
            "Epoch 32/200\n",
            "13/13 [==============================] - 0s 4ms/step - loss: 0.3930 - accuracy: 0.7975 - val_loss: 0.2493 - val_accuracy: 1.0000\n",
            "Epoch 33/200\n",
            "13/13 [==============================] - 0s 5ms/step - loss: 0.3836 - accuracy: 0.8000 - val_loss: 0.2446 - val_accuracy: 1.0000\n",
            "Epoch 34/200\n",
            "13/13 [==============================] - 0s 4ms/step - loss: 0.3739 - accuracy: 0.8173 - val_loss: 0.2376 - val_accuracy: 1.0000\n",
            "Epoch 35/200\n",
            "13/13 [==============================] - 0s 4ms/step - loss: 0.3645 - accuracy: 0.8395 - val_loss: 0.2327 - val_accuracy: 1.0000\n",
            "Epoch 36/200\n",
            "13/13 [==============================] - 0s 4ms/step - loss: 0.3554 - accuracy: 0.8741 - val_loss: 0.2259 - val_accuracy: 1.0000\n",
            "Epoch 37/200\n",
            "13/13 [==============================] - 0s 4ms/step - loss: 0.3449 - accuracy: 0.9086 - val_loss: 0.2226 - val_accuracy: 1.0000\n",
            "Epoch 38/200\n",
            "13/13 [==============================] - 0s 4ms/step - loss: 0.3354 - accuracy: 0.9333 - val_loss: 0.2168 - val_accuracy: 1.0000\n",
            "Epoch 39/200\n",
            "13/13 [==============================] - 0s 4ms/step - loss: 0.3258 - accuracy: 0.9407 - val_loss: 0.2117 - val_accuracy: 1.0000\n",
            "Epoch 40/200\n",
            "13/13 [==============================] - 0s 5ms/step - loss: 0.3158 - accuracy: 0.9605 - val_loss: 0.2089 - val_accuracy: 1.0000\n",
            "Epoch 41/200\n",
            "13/13 [==============================] - 0s 5ms/step - loss: 0.3055 - accuracy: 0.9679 - val_loss: 0.2025 - val_accuracy: 1.0000\n",
            "Epoch 42/200\n",
            "13/13 [==============================] - 0s 4ms/step - loss: 0.2973 - accuracy: 0.9679 - val_loss: 0.1987 - val_accuracy: 1.0000\n",
            "Epoch 43/200\n",
            "13/13 [==============================] - 0s 4ms/step - loss: 0.2884 - accuracy: 0.9728 - val_loss: 0.1955 - val_accuracy: 1.0000\n",
            "Epoch 44/200\n",
            "13/13 [==============================] - 0s 5ms/step - loss: 0.2809 - accuracy: 0.9802 - val_loss: 0.1909 - val_accuracy: 1.0000\n",
            "Epoch 45/200\n",
            "13/13 [==============================] - 0s 5ms/step - loss: 0.2742 - accuracy: 0.9753 - val_loss: 0.1866 - val_accuracy: 1.0000\n",
            "Epoch 46/200\n",
            "13/13 [==============================] - 0s 5ms/step - loss: 0.2675 - accuracy: 0.9778 - val_loss: 0.1838 - val_accuracy: 1.0000\n",
            "Epoch 47/200\n",
            "13/13 [==============================] - 0s 6ms/step - loss: 0.2621 - accuracy: 0.9827 - val_loss: 0.1802 - val_accuracy: 1.0000\n",
            "Epoch 48/200\n",
            "13/13 [==============================] - 0s 5ms/step - loss: 0.2568 - accuracy: 0.9827 - val_loss: 0.1767 - val_accuracy: 1.0000\n",
            "Epoch 49/200\n",
            "13/13 [==============================] - 0s 5ms/step - loss: 0.2514 - accuracy: 0.9827 - val_loss: 0.1735 - val_accuracy: 1.0000\n",
            "Epoch 50/200\n",
            "13/13 [==============================] - 0s 6ms/step - loss: 0.2467 - accuracy: 0.9852 - val_loss: 0.1702 - val_accuracy: 1.0000\n",
            "Epoch 51/200\n",
            "13/13 [==============================] - 0s 5ms/step - loss: 0.2423 - accuracy: 0.9827 - val_loss: 0.1671 - val_accuracy: 1.0000\n",
            "Epoch 52/200\n",
            "13/13 [==============================] - 0s 4ms/step - loss: 0.2389 - accuracy: 0.9877 - val_loss: 0.1644 - val_accuracy: 1.0000\n",
            "Epoch 53/200\n",
            "13/13 [==============================] - 0s 5ms/step - loss: 0.2350 - accuracy: 0.9827 - val_loss: 0.1612 - val_accuracy: 1.0000\n",
            "Epoch 54/200\n",
            "13/13 [==============================] - 0s 6ms/step - loss: 0.2306 - accuracy: 0.9852 - val_loss: 0.1591 - val_accuracy: 1.0000\n",
            "Epoch 55/200\n",
            "13/13 [==============================] - 0s 5ms/step - loss: 0.2270 - accuracy: 0.9852 - val_loss: 0.1559 - val_accuracy: 1.0000\n",
            "Epoch 56/200\n",
            "13/13 [==============================] - 0s 5ms/step - loss: 0.2230 - accuracy: 0.9852 - val_loss: 0.1535 - val_accuracy: 1.0000\n",
            "Epoch 57/200\n",
            "13/13 [==============================] - 0s 5ms/step - loss: 0.2198 - accuracy: 0.9877 - val_loss: 0.1508 - val_accuracy: 1.0000\n",
            "Epoch 58/200\n",
            "13/13 [==============================] - 0s 5ms/step - loss: 0.2166 - accuracy: 0.9852 - val_loss: 0.1482 - val_accuracy: 1.0000\n",
            "Epoch 59/200\n",
            "13/13 [==============================] - 0s 5ms/step - loss: 0.2142 - accuracy: 0.9852 - val_loss: 0.1463 - val_accuracy: 1.0000\n",
            "Epoch 60/200\n",
            "13/13 [==============================] - 0s 5ms/step - loss: 0.2104 - accuracy: 0.9852 - val_loss: 0.1438 - val_accuracy: 1.0000\n",
            "Epoch 61/200\n",
            "13/13 [==============================] - 0s 6ms/step - loss: 0.2072 - accuracy: 0.9877 - val_loss: 0.1417 - val_accuracy: 1.0000\n",
            "Epoch 62/200\n",
            "13/13 [==============================] - 0s 5ms/step - loss: 0.2045 - accuracy: 0.9877 - val_loss: 0.1394 - val_accuracy: 1.0000\n",
            "Epoch 63/200\n",
            "13/13 [==============================] - 0s 4ms/step - loss: 0.2017 - accuracy: 0.9877 - val_loss: 0.1373 - val_accuracy: 1.0000\n",
            "Epoch 64/200\n",
            "13/13 [==============================] - 0s 5ms/step - loss: 0.1991 - accuracy: 0.9877 - val_loss: 0.1354 - val_accuracy: 1.0000\n",
            "Epoch 65/200\n",
            "13/13 [==============================] - 0s 4ms/step - loss: 0.1966 - accuracy: 0.9926 - val_loss: 0.1335 - val_accuracy: 1.0000\n",
            "Epoch 66/200\n",
            "13/13 [==============================] - 0s 4ms/step - loss: 0.1937 - accuracy: 0.9901 - val_loss: 0.1313 - val_accuracy: 1.0000\n",
            "Epoch 67/200\n",
            "13/13 [==============================] - 0s 5ms/step - loss: 0.1916 - accuracy: 0.9877 - val_loss: 0.1294 - val_accuracy: 1.0000\n",
            "Epoch 68/200\n",
            "13/13 [==============================] - 0s 5ms/step - loss: 0.1890 - accuracy: 0.9926 - val_loss: 0.1275 - val_accuracy: 1.0000\n",
            "Epoch 69/200\n",
            "13/13 [==============================] - 0s 5ms/step - loss: 0.1866 - accuracy: 0.9901 - val_loss: 0.1257 - val_accuracy: 1.0000\n",
            "Epoch 70/200\n",
            "13/13 [==============================] - 0s 5ms/step - loss: 0.1844 - accuracy: 0.9926 - val_loss: 0.1243 - val_accuracy: 1.0000\n",
            "Epoch 71/200\n",
            "13/13 [==============================] - 0s 5ms/step - loss: 0.1822 - accuracy: 0.9926 - val_loss: 0.1223 - val_accuracy: 1.0000\n",
            "Epoch 72/200\n",
            "13/13 [==============================] - 0s 5ms/step - loss: 0.1798 - accuracy: 0.9926 - val_loss: 0.1205 - val_accuracy: 1.0000\n",
            "Epoch 73/200\n",
            "13/13 [==============================] - 0s 4ms/step - loss: 0.1781 - accuracy: 0.9926 - val_loss: 0.1189 - val_accuracy: 1.0000\n",
            "Epoch 74/200\n",
            "13/13 [==============================] - 0s 5ms/step - loss: 0.1755 - accuracy: 0.9926 - val_loss: 0.1175 - val_accuracy: 1.0000\n",
            "Epoch 75/200\n",
            "13/13 [==============================] - 0s 5ms/step - loss: 0.1734 - accuracy: 0.9926 - val_loss: 0.1158 - val_accuracy: 1.0000\n",
            "Epoch 76/200\n",
            "13/13 [==============================] - 0s 5ms/step - loss: 0.1716 - accuracy: 0.9926 - val_loss: 0.1144 - val_accuracy: 1.0000\n",
            "Epoch 77/200\n",
            "13/13 [==============================] - 0s 4ms/step - loss: 0.1693 - accuracy: 0.9926 - val_loss: 0.1129 - val_accuracy: 1.0000\n",
            "Epoch 78/200\n",
            "13/13 [==============================] - 0s 5ms/step - loss: 0.1672 - accuracy: 0.9926 - val_loss: 0.1113 - val_accuracy: 1.0000\n",
            "Epoch 79/200\n",
            "13/13 [==============================] - 0s 4ms/step - loss: 0.1655 - accuracy: 0.9926 - val_loss: 0.1099 - val_accuracy: 1.0000\n",
            "Epoch 80/200\n",
            "13/13 [==============================] - 0s 5ms/step - loss: 0.1640 - accuracy: 0.9926 - val_loss: 0.1083 - val_accuracy: 1.0000\n",
            "Epoch 81/200\n",
            "13/13 [==============================] - 0s 5ms/step - loss: 0.1623 - accuracy: 0.9926 - val_loss: 0.1073 - val_accuracy: 1.0000\n",
            "Epoch 82/200\n",
            "13/13 [==============================] - 0s 5ms/step - loss: 0.1603 - accuracy: 0.9926 - val_loss: 0.1055 - val_accuracy: 1.0000\n",
            "Epoch 83/200\n",
            "13/13 [==============================] - 0s 5ms/step - loss: 0.1578 - accuracy: 0.9926 - val_loss: 0.1044 - val_accuracy: 1.0000\n",
            "Epoch 84/200\n",
            "13/13 [==============================] - 0s 5ms/step - loss: 0.1559 - accuracy: 0.9926 - val_loss: 0.1031 - val_accuracy: 1.0000\n",
            "Epoch 85/200\n",
            "13/13 [==============================] - 0s 5ms/step - loss: 0.1542 - accuracy: 0.9926 - val_loss: 0.1016 - val_accuracy: 1.0000\n",
            "Epoch 86/200\n",
            "13/13 [==============================] - 0s 4ms/step - loss: 0.1533 - accuracy: 0.9926 - val_loss: 0.1006 - val_accuracy: 1.0000\n",
            "Epoch 87/200\n",
            "13/13 [==============================] - 0s 5ms/step - loss: 0.1508 - accuracy: 0.9926 - val_loss: 0.0990 - val_accuracy: 1.0000\n",
            "Epoch 88/200\n",
            "13/13 [==============================] - 0s 5ms/step - loss: 0.1493 - accuracy: 0.9926 - val_loss: 0.0979 - val_accuracy: 1.0000\n",
            "Epoch 89/200\n",
            "13/13 [==============================] - 0s 5ms/step - loss: 0.1479 - accuracy: 0.9926 - val_loss: 0.0966 - val_accuracy: 1.0000\n",
            "Epoch 90/200\n",
            "13/13 [==============================] - 0s 5ms/step - loss: 0.1459 - accuracy: 0.9951 - val_loss: 0.0957 - val_accuracy: 1.0000\n",
            "Epoch 91/200\n",
            "13/13 [==============================] - 0s 5ms/step - loss: 0.1447 - accuracy: 0.9951 - val_loss: 0.0944 - val_accuracy: 1.0000\n",
            "Epoch 92/200\n",
            "13/13 [==============================] - 0s 5ms/step - loss: 0.1429 - accuracy: 0.9951 - val_loss: 0.0933 - val_accuracy: 1.0000\n",
            "Epoch 93/200\n",
            "13/13 [==============================] - 0s 5ms/step - loss: 0.1417 - accuracy: 0.9951 - val_loss: 0.0924 - val_accuracy: 1.0000\n",
            "Epoch 94/200\n",
            "13/13 [==============================] - 0s 5ms/step - loss: 0.1401 - accuracy: 0.9951 - val_loss: 0.0912 - val_accuracy: 1.0000\n",
            "Epoch 95/200\n",
            "13/13 [==============================] - 0s 5ms/step - loss: 0.1386 - accuracy: 0.9951 - val_loss: 0.0901 - val_accuracy: 1.0000\n",
            "Epoch 96/200\n",
            "13/13 [==============================] - 0s 5ms/step - loss: 0.1375 - accuracy: 0.9951 - val_loss: 0.0890 - val_accuracy: 1.0000\n",
            "Epoch 97/200\n",
            "13/13 [==============================] - 0s 7ms/step - loss: 0.1367 - accuracy: 0.9951 - val_loss: 0.0883 - val_accuracy: 1.0000\n",
            "Epoch 98/200\n",
            "13/13 [==============================] - 0s 5ms/step - loss: 0.1347 - accuracy: 0.9951 - val_loss: 0.0871 - val_accuracy: 1.0000\n",
            "Epoch 99/200\n",
            "13/13 [==============================] - 0s 4ms/step - loss: 0.1333 - accuracy: 0.9951 - val_loss: 0.0862 - val_accuracy: 1.0000\n",
            "Epoch 100/200\n",
            "13/13 [==============================] - 0s 5ms/step - loss: 0.1321 - accuracy: 0.9951 - val_loss: 0.0853 - val_accuracy: 1.0000\n",
            "Epoch 101/200\n",
            "13/13 [==============================] - 0s 5ms/step - loss: 0.1310 - accuracy: 0.9951 - val_loss: 0.0844 - val_accuracy: 1.0000\n",
            "Epoch 102/200\n",
            "13/13 [==============================] - 0s 5ms/step - loss: 0.1299 - accuracy: 0.9951 - val_loss: 0.0832 - val_accuracy: 1.0000\n",
            "Epoch 103/200\n",
            "13/13 [==============================] - 0s 5ms/step - loss: 0.1283 - accuracy: 0.9951 - val_loss: 0.0824 - val_accuracy: 1.0000\n",
            "Epoch 104/200\n",
            "13/13 [==============================] - 0s 5ms/step - loss: 0.1273 - accuracy: 0.9951 - val_loss: 0.0817 - val_accuracy: 1.0000\n",
            "Epoch 105/200\n",
            "13/13 [==============================] - 0s 5ms/step - loss: 0.1259 - accuracy: 0.9951 - val_loss: 0.0806 - val_accuracy: 1.0000\n",
            "Epoch 106/200\n",
            "13/13 [==============================] - 0s 5ms/step - loss: 0.1247 - accuracy: 0.9951 - val_loss: 0.0797 - val_accuracy: 1.0000\n",
            "Epoch 107/200\n",
            "13/13 [==============================] - 0s 5ms/step - loss: 0.1235 - accuracy: 0.9951 - val_loss: 0.0790 - val_accuracy: 1.0000\n",
            "Epoch 108/200\n",
            "13/13 [==============================] - 0s 5ms/step - loss: 0.1225 - accuracy: 0.9951 - val_loss: 0.0783 - val_accuracy: 1.0000\n",
            "Epoch 109/200\n",
            "13/13 [==============================] - 0s 5ms/step - loss: 0.1214 - accuracy: 0.9951 - val_loss: 0.0773 - val_accuracy: 1.0000\n",
            "Epoch 110/200\n",
            "13/13 [==============================] - 0s 7ms/step - loss: 0.1203 - accuracy: 0.9951 - val_loss: 0.0765 - val_accuracy: 1.0000\n",
            "Epoch 111/200\n",
            "13/13 [==============================] - 0s 6ms/step - loss: 0.1192 - accuracy: 0.9951 - val_loss: 0.0758 - val_accuracy: 1.0000\n",
            "Epoch 112/200\n",
            "13/13 [==============================] - 0s 5ms/step - loss: 0.1181 - accuracy: 0.9951 - val_loss: 0.0750 - val_accuracy: 1.0000\n",
            "Epoch 113/200\n",
            "13/13 [==============================] - 0s 5ms/step - loss: 0.1171 - accuracy: 0.9951 - val_loss: 0.0743 - val_accuracy: 1.0000\n",
            "Epoch 114/200\n",
            "13/13 [==============================] - 0s 4ms/step - loss: 0.1161 - accuracy: 0.9951 - val_loss: 0.0734 - val_accuracy: 1.0000\n",
            "Epoch 115/200\n",
            "13/13 [==============================] - 0s 5ms/step - loss: 0.1157 - accuracy: 0.9951 - val_loss: 0.0728 - val_accuracy: 1.0000\n",
            "Epoch 116/200\n",
            "13/13 [==============================] - 0s 6ms/step - loss: 0.1140 - accuracy: 0.9951 - val_loss: 0.0720 - val_accuracy: 1.0000\n",
            "Epoch 117/200\n",
            "13/13 [==============================] - 0s 5ms/step - loss: 0.1131 - accuracy: 0.9951 - val_loss: 0.0713 - val_accuracy: 1.0000\n",
            "Epoch 118/200\n",
            "13/13 [==============================] - 0s 5ms/step - loss: 0.1122 - accuracy: 0.9951 - val_loss: 0.0707 - val_accuracy: 1.0000\n",
            "Epoch 119/200\n",
            "13/13 [==============================] - 0s 5ms/step - loss: 0.1112 - accuracy: 0.9951 - val_loss: 0.0700 - val_accuracy: 1.0000\n",
            "Epoch 120/200\n",
            "13/13 [==============================] - 0s 5ms/step - loss: 0.1103 - accuracy: 0.9951 - val_loss: 0.0692 - val_accuracy: 1.0000\n",
            "Epoch 121/200\n",
            "13/13 [==============================] - 0s 5ms/step - loss: 0.1094 - accuracy: 0.9951 - val_loss: 0.0687 - val_accuracy: 1.0000\n",
            "Epoch 122/200\n",
            "13/13 [==============================] - 0s 5ms/step - loss: 0.1084 - accuracy: 0.9951 - val_loss: 0.0680 - val_accuracy: 1.0000\n",
            "Epoch 123/200\n",
            "13/13 [==============================] - 0s 5ms/step - loss: 0.1076 - accuracy: 0.9951 - val_loss: 0.0673 - val_accuracy: 1.0000\n",
            "Epoch 124/200\n",
            "13/13 [==============================] - 0s 7ms/step - loss: 0.1067 - accuracy: 0.9951 - val_loss: 0.0667 - val_accuracy: 1.0000\n",
            "Epoch 125/200\n",
            "13/13 [==============================] - 0s 6ms/step - loss: 0.1058 - accuracy: 0.9951 - val_loss: 0.0660 - val_accuracy: 1.0000\n",
            "Epoch 126/200\n",
            "13/13 [==============================] - 0s 5ms/step - loss: 0.1049 - accuracy: 0.9951 - val_loss: 0.0653 - val_accuracy: 1.0000\n",
            "Epoch 127/200\n",
            "13/13 [==============================] - 0s 5ms/step - loss: 0.1040 - accuracy: 0.9951 - val_loss: 0.0648 - val_accuracy: 1.0000\n",
            "Epoch 128/200\n",
            "13/13 [==============================] - 0s 4ms/step - loss: 0.1031 - accuracy: 0.9975 - val_loss: 0.0643 - val_accuracy: 1.0000\n",
            "Epoch 129/200\n",
            "13/13 [==============================] - 0s 5ms/step - loss: 0.1026 - accuracy: 0.9975 - val_loss: 0.0637 - val_accuracy: 1.0000\n",
            "Epoch 130/200\n",
            "13/13 [==============================] - 0s 5ms/step - loss: 0.1020 - accuracy: 0.9951 - val_loss: 0.0629 - val_accuracy: 1.0000\n",
            "Epoch 131/200\n",
            "13/13 [==============================] - 0s 5ms/step - loss: 0.1008 - accuracy: 0.9951 - val_loss: 0.0625 - val_accuracy: 1.0000\n",
            "Epoch 132/200\n",
            "13/13 [==============================] - 0s 5ms/step - loss: 0.1000 - accuracy: 0.9975 - val_loss: 0.0619 - val_accuracy: 1.0000\n",
            "Epoch 133/200\n",
            "13/13 [==============================] - 0s 5ms/step - loss: 0.0992 - accuracy: 0.9975 - val_loss: 0.0613 - val_accuracy: 1.0000\n",
            "Epoch 134/200\n",
            "13/13 [==============================] - 0s 5ms/step - loss: 0.0984 - accuracy: 0.9975 - val_loss: 0.0608 - val_accuracy: 1.0000\n",
            "Epoch 135/200\n",
            "13/13 [==============================] - 0s 5ms/step - loss: 0.0978 - accuracy: 0.9951 - val_loss: 0.0602 - val_accuracy: 1.0000\n",
            "Epoch 136/200\n",
            "13/13 [==============================] - 0s 5ms/step - loss: 0.0968 - accuracy: 0.9951 - val_loss: 0.0597 - val_accuracy: 1.0000\n",
            "Epoch 137/200\n",
            "13/13 [==============================] - 0s 5ms/step - loss: 0.0963 - accuracy: 0.9975 - val_loss: 0.0592 - val_accuracy: 1.0000\n",
            "Epoch 138/200\n",
            "13/13 [==============================] - 0s 7ms/step - loss: 0.0953 - accuracy: 0.9975 - val_loss: 0.0588 - val_accuracy: 1.0000\n",
            "Epoch 139/200\n",
            "13/13 [==============================] - 0s 5ms/step - loss: 0.0948 - accuracy: 0.9975 - val_loss: 0.0582 - val_accuracy: 1.0000\n",
            "Epoch 140/200\n",
            "13/13 [==============================] - 0s 5ms/step - loss: 0.0939 - accuracy: 0.9975 - val_loss: 0.0576 - val_accuracy: 1.0000\n",
            "Epoch 141/200\n",
            "13/13 [==============================] - 0s 5ms/step - loss: 0.0934 - accuracy: 0.9951 - val_loss: 0.0570 - val_accuracy: 1.0000\n",
            "Epoch 142/200\n",
            "13/13 [==============================] - 0s 7ms/step - loss: 0.0925 - accuracy: 0.9975 - val_loss: 0.0567 - val_accuracy: 1.0000\n",
            "Epoch 143/200\n",
            "13/13 [==============================] - 0s 5ms/step - loss: 0.0919 - accuracy: 0.9975 - val_loss: 0.0562 - val_accuracy: 1.0000\n",
            "Epoch 144/200\n",
            "13/13 [==============================] - 0s 5ms/step - loss: 0.0912 - accuracy: 0.9975 - val_loss: 0.0556 - val_accuracy: 1.0000\n",
            "Epoch 145/200\n",
            "13/13 [==============================] - 0s 5ms/step - loss: 0.0906 - accuracy: 0.9975 - val_loss: 0.0552 - val_accuracy: 1.0000\n",
            "Epoch 146/200\n",
            "13/13 [==============================] - 0s 5ms/step - loss: 0.0898 - accuracy: 0.9975 - val_loss: 0.0548 - val_accuracy: 1.0000\n",
            "Epoch 147/200\n",
            "13/13 [==============================] - 0s 5ms/step - loss: 0.0893 - accuracy: 0.9975 - val_loss: 0.0543 - val_accuracy: 1.0000\n",
            "Epoch 148/200\n",
            "13/13 [==============================] - 0s 5ms/step - loss: 0.0885 - accuracy: 0.9975 - val_loss: 0.0538 - val_accuracy: 1.0000\n",
            "Epoch 149/200\n",
            "13/13 [==============================] - 0s 5ms/step - loss: 0.0879 - accuracy: 0.9975 - val_loss: 0.0534 - val_accuracy: 1.0000\n",
            "Epoch 150/200\n",
            "13/13 [==============================] - 0s 5ms/step - loss: 0.0876 - accuracy: 0.9951 - val_loss: 0.0528 - val_accuracy: 1.0000\n",
            "Epoch 151/200\n",
            "13/13 [==============================] - 0s 5ms/step - loss: 0.0871 - accuracy: 0.9975 - val_loss: 0.0527 - val_accuracy: 1.0000\n",
            "Epoch 152/200\n",
            "13/13 [==============================] - 0s 5ms/step - loss: 0.0862 - accuracy: 0.9975 - val_loss: 0.0521 - val_accuracy: 1.0000\n",
            "Epoch 153/200\n",
            "13/13 [==============================] - 0s 5ms/step - loss: 0.0854 - accuracy: 0.9975 - val_loss: 0.0516 - val_accuracy: 1.0000\n",
            "Epoch 154/200\n",
            "13/13 [==============================] - 0s 5ms/step - loss: 0.0848 - accuracy: 0.9975 - val_loss: 0.0512 - val_accuracy: 1.0000\n",
            "Epoch 155/200\n",
            "13/13 [==============================] - 0s 5ms/step - loss: 0.0846 - accuracy: 0.9975 - val_loss: 0.0507 - val_accuracy: 1.0000\n",
            "Epoch 156/200\n",
            "13/13 [==============================] - 0s 5ms/step - loss: 0.0836 - accuracy: 0.9975 - val_loss: 0.0505 - val_accuracy: 1.0000\n",
            "Epoch 157/200\n",
            "13/13 [==============================] - 0s 5ms/step - loss: 0.0830 - accuracy: 0.9975 - val_loss: 0.0500 - val_accuracy: 1.0000\n",
            "Epoch 158/200\n",
            "13/13 [==============================] - 0s 5ms/step - loss: 0.0825 - accuracy: 0.9975 - val_loss: 0.0495 - val_accuracy: 1.0000\n",
            "Epoch 159/200\n",
            "13/13 [==============================] - 0s 5ms/step - loss: 0.0819 - accuracy: 0.9975 - val_loss: 0.0492 - val_accuracy: 1.0000\n",
            "Epoch 160/200\n",
            "13/13 [==============================] - 0s 5ms/step - loss: 0.0814 - accuracy: 0.9975 - val_loss: 0.0488 - val_accuracy: 1.0000\n",
            "Epoch 161/200\n",
            "13/13 [==============================] - 0s 5ms/step - loss: 0.0808 - accuracy: 0.9975 - val_loss: 0.0484 - val_accuracy: 1.0000\n",
            "Epoch 162/200\n",
            "13/13 [==============================] - 0s 5ms/step - loss: 0.0803 - accuracy: 0.9975 - val_loss: 0.0479 - val_accuracy: 1.0000\n",
            "Epoch 163/200\n",
            "13/13 [==============================] - 0s 5ms/step - loss: 0.0799 - accuracy: 0.9975 - val_loss: 0.0478 - val_accuracy: 1.0000\n",
            "Epoch 164/200\n",
            "13/13 [==============================] - 0s 6ms/step - loss: 0.0792 - accuracy: 0.9975 - val_loss: 0.0473 - val_accuracy: 1.0000\n",
            "Epoch 165/200\n",
            "13/13 [==============================] - 0s 6ms/step - loss: 0.0787 - accuracy: 0.9975 - val_loss: 0.0468 - val_accuracy: 1.0000\n",
            "Epoch 166/200\n",
            "13/13 [==============================] - 0s 6ms/step - loss: 0.0782 - accuracy: 0.9975 - val_loss: 0.0466 - val_accuracy: 1.0000\n",
            "Epoch 167/200\n",
            "13/13 [==============================] - 0s 5ms/step - loss: 0.0777 - accuracy: 0.9975 - val_loss: 0.0461 - val_accuracy: 1.0000\n",
            "Epoch 168/200\n",
            "13/13 [==============================] - 0s 6ms/step - loss: 0.0770 - accuracy: 0.9975 - val_loss: 0.0458 - val_accuracy: 1.0000\n",
            "Epoch 169/200\n",
            "13/13 [==============================] - 0s 6ms/step - loss: 0.0766 - accuracy: 0.9975 - val_loss: 0.0454 - val_accuracy: 1.0000\n",
            "Epoch 170/200\n",
            "13/13 [==============================] - 0s 5ms/step - loss: 0.0761 - accuracy: 0.9975 - val_loss: 0.0451 - val_accuracy: 1.0000\n",
            "Epoch 171/200\n",
            "13/13 [==============================] - 0s 5ms/step - loss: 0.0757 - accuracy: 0.9975 - val_loss: 0.0449 - val_accuracy: 1.0000\n",
            "Epoch 172/200\n",
            "13/13 [==============================] - 0s 5ms/step - loss: 0.0750 - accuracy: 0.9975 - val_loss: 0.0444 - val_accuracy: 1.0000\n",
            "Epoch 173/200\n",
            "13/13 [==============================] - 0s 5ms/step - loss: 0.0746 - accuracy: 0.9975 - val_loss: 0.0441 - val_accuracy: 1.0000\n",
            "Epoch 174/200\n",
            "13/13 [==============================] - 0s 5ms/step - loss: 0.0742 - accuracy: 0.9975 - val_loss: 0.0437 - val_accuracy: 1.0000\n",
            "Epoch 175/200\n",
            "13/13 [==============================] - 0s 4ms/step - loss: 0.0736 - accuracy: 0.9975 - val_loss: 0.0434 - val_accuracy: 1.0000\n",
            "Epoch 176/200\n",
            "13/13 [==============================] - 0s 5ms/step - loss: 0.0731 - accuracy: 0.9975 - val_loss: 0.0431 - val_accuracy: 1.0000\n",
            "Epoch 177/200\n",
            "13/13 [==============================] - 0s 5ms/step - loss: 0.0729 - accuracy: 0.9975 - val_loss: 0.0427 - val_accuracy: 1.0000\n",
            "Epoch 178/200\n",
            "13/13 [==============================] - 0s 5ms/step - loss: 0.0722 - accuracy: 0.9975 - val_loss: 0.0425 - val_accuracy: 1.0000\n",
            "Epoch 179/200\n",
            "13/13 [==============================] - 0s 5ms/step - loss: 0.0717 - accuracy: 0.9975 - val_loss: 0.0422 - val_accuracy: 1.0000\n",
            "Epoch 180/200\n",
            "13/13 [==============================] - 0s 5ms/step - loss: 0.0714 - accuracy: 0.9975 - val_loss: 0.0419 - val_accuracy: 1.0000\n",
            "Epoch 181/200\n",
            "13/13 [==============================] - 0s 5ms/step - loss: 0.0708 - accuracy: 0.9975 - val_loss: 0.0415 - val_accuracy: 1.0000\n",
            "Epoch 182/200\n",
            "13/13 [==============================] - 0s 5ms/step - loss: 0.0704 - accuracy: 0.9975 - val_loss: 0.0412 - val_accuracy: 1.0000\n",
            "Epoch 183/200\n",
            "13/13 [==============================] - 0s 5ms/step - loss: 0.0701 - accuracy: 0.9975 - val_loss: 0.0409 - val_accuracy: 1.0000\n",
            "Epoch 184/200\n",
            "13/13 [==============================] - 0s 5ms/step - loss: 0.0696 - accuracy: 0.9975 - val_loss: 0.0406 - val_accuracy: 1.0000\n",
            "Epoch 185/200\n",
            "13/13 [==============================] - 0s 5ms/step - loss: 0.0691 - accuracy: 0.9975 - val_loss: 0.0403 - val_accuracy: 1.0000\n",
            "Epoch 186/200\n",
            "13/13 [==============================] - 0s 5ms/step - loss: 0.0687 - accuracy: 0.9975 - val_loss: 0.0400 - val_accuracy: 1.0000\n",
            "Epoch 187/200\n",
            "13/13 [==============================] - 0s 5ms/step - loss: 0.0684 - accuracy: 0.9975 - val_loss: 0.0398 - val_accuracy: 1.0000\n",
            "Epoch 188/200\n",
            "13/13 [==============================] - 0s 5ms/step - loss: 0.0678 - accuracy: 0.9975 - val_loss: 0.0394 - val_accuracy: 1.0000\n",
            "Epoch 189/200\n",
            "13/13 [==============================] - 0s 5ms/step - loss: 0.0675 - accuracy: 0.9975 - val_loss: 0.0391 - val_accuracy: 1.0000\n",
            "Epoch 190/200\n",
            "13/13 [==============================] - 0s 5ms/step - loss: 0.0670 - accuracy: 0.9975 - val_loss: 0.0388 - val_accuracy: 1.0000\n",
            "Epoch 191/200\n",
            "13/13 [==============================] - 0s 6ms/step - loss: 0.0667 - accuracy: 0.9975 - val_loss: 0.0385 - val_accuracy: 1.0000\n",
            "Epoch 192/200\n",
            "13/13 [==============================] - 0s 5ms/step - loss: 0.0662 - accuracy: 0.9975 - val_loss: 0.0384 - val_accuracy: 1.0000\n",
            "Epoch 193/200\n",
            "13/13 [==============================] - 0s 5ms/step - loss: 0.0659 - accuracy: 0.9975 - val_loss: 0.0381 - val_accuracy: 1.0000\n",
            "Epoch 194/200\n",
            "13/13 [==============================] - 0s 5ms/step - loss: 0.0654 - accuracy: 0.9975 - val_loss: 0.0378 - val_accuracy: 1.0000\n",
            "Epoch 195/200\n",
            "13/13 [==============================] - 0s 5ms/step - loss: 0.0653 - accuracy: 0.9975 - val_loss: 0.0374 - val_accuracy: 1.0000\n",
            "Epoch 196/200\n",
            "13/13 [==============================] - 0s 5ms/step - loss: 0.0646 - accuracy: 0.9975 - val_loss: 0.0373 - val_accuracy: 1.0000\n",
            "Epoch 197/200\n",
            "13/13 [==============================] - 0s 5ms/step - loss: 0.0643 - accuracy: 0.9975 - val_loss: 0.0371 - val_accuracy: 1.0000\n",
            "Epoch 198/200\n",
            "13/13 [==============================] - 0s 5ms/step - loss: 0.0639 - accuracy: 0.9975 - val_loss: 0.0368 - val_accuracy: 1.0000\n",
            "Epoch 199/200\n",
            "13/13 [==============================] - 0s 5ms/step - loss: 0.0635 - accuracy: 0.9975 - val_loss: 0.0364 - val_accuracy: 1.0000\n",
            "Epoch 200/200\n",
            "13/13 [==============================] - 0s 4ms/step - loss: 0.0631 - accuracy: 0.9975 - val_loss: 0.0362 - val_accuracy: 1.0000\n"
          ]
        }
      ]
    },
    {
      "cell_type": "code",
      "source": [
        "def plot_graphs(history, metric):\n",
        "  plt.plot(history.history[metric])\n",
        "  plt.plot(history.history[f'val_{metric}'])\n",
        "  plt.xlabel(\"Epochs\")\n",
        "  plt.ylabel(metric)\n",
        "  plt.legend([metric, f'val_{metric}'])\n",
        "  plt.show()\n",
        "\n",
        "plot_graphs(history, \"accuracy\")\n",
        "plot_graphs(history, \"loss\")"
      ],
      "metadata": {
        "id": "wxVkaH-RqklU",
        "colab": {
          "base_uri": "https://localhost:8080/",
          "height": 544
        },
        "outputId": "d4497cd4-51ed-4e5a-b565-8c36ee6a6374"
      },
      "execution_count": 172,
      "outputs": [
        {
          "output_type": "display_data",
          "data": {
            "text/plain": [
              "<Figure size 432x288 with 1 Axes>"
            ],
            "image/png": "[encoded data removed]"
          },
          "metadata": {
            "needs_background": "light"
          }
        },
        {
          "output_type": "display_data",
          "data": {
            "text/plain": [
              "<Figure size 432x288 with 1 Axes>"
            ],
            "image/png": "[encoded data removed]"
          },
          "metadata": {
            "needs_background": "light"
          }
        }
      ]
    },
    {
      "cell_type": "markdown",
      "source": [
        "**Prediction**"
      ],
      "metadata": {
        "id": "udVsZXdyBUbr"
      }
    },
    {
      "cell_type": "code",
      "source": [
        "sentence = \"Bangsat! Bajingan kamu Sambar Geledek\"\n",
        "sentence = sentence.split(\".\")\n",
        "prediction = 0\n",
        "\n",
        "sequences = tokenizer.texts_to_sequences(sentence)\n",
        "padded = pad_sequences(sequences, maxlen=MAXLEN, padding=PADDING, truncating=TRUNCATING)\n",
        "predict = model.predict(padded)\n",
        "\n",
        "for i in range(len(predict)) :\n",
        "  prediction += predict[i]\n",
        "\n",
        "prediction = prediction/len(predict)\n",
        "\n",
        "if prediction<0.5 :\n",
        "  print(\"Cerita Layak Dibaca Anak\")\n",
        "else :\n",
        "  print(\"Cerita Tidak Layak Dibaca Anak\")"
      ],
      "metadata": {
        "id": "HXPtnJwg9H7z",
        "colab": {
          "base_uri": "https://localhost:8080/"
        },
        "outputId": "6c80d951-704f-4383-b018-9b016b5937b6"
      },
      "execution_count": 173,
      "outputs": [
        {
          "output_type": "stream",
          "name": "stdout",
          "text": [
            "Cerita Tidak Layak Dibaca Anak\n"
          ]
        }
      ]
    },
    {
      "cell_type": "code",
      "source": [
        "model.save(\"/content/sample_data/model.h5\")"
      ],
      "metadata": {
        "id": "AQsqK4ypLm7o"
      },
      "execution_count": 174,
      "outputs": []
    },
    {
      "cell_type": "markdown",
      "source": [
        "**Converting model.h5 to tflite**"
      ],
      "metadata": {
        "id": "WKS1mdqaLh7i"
      }
    },
    {
      "cell_type": "code",
      "source": [
        "model = tf.keras.models.load_model('/content/sample_data/model.h5')\n",
        "converter = tf.lite.TFLiteConverter.from_keras_model(model)\n",
        "tflite_model = converter.convert()\n",
        "open(\"/content/sample_data/model.tflite\", \"wb\").write(tflite_model)"
      ],
      "metadata": {
        "colab": {
          "base_uri": "https://localhost:8080/"
        },
        "id": "2jplKNFSPjso",
        "outputId": "1668e553-51e6-4fa9-87f1-28cbde11fc8f"
      },
      "execution_count": 175,
      "outputs": [
        {
          "output_type": "stream",
          "name": "stdout",
          "text": [
            "INFO:tensorflow:Assets written to: /tmp/tmpv47k8f7m/assets\n"
          ]
        },
        {
          "output_type": "stream",
          "name": "stderr",
          "text": [
            "INFO:tensorflow:Assets written to: /tmp/tmpv47k8f7m/assets\n",
            "WARNING:absl:Buffer deduplication procedure will be skipped when flatbuffer library is not properly loaded\n"
          ]
        },
        {
          "output_type": "execute_result",
          "data": {
            "text/plain": [
              "412208"
            ]
          },
          "metadata": {},
          "execution_count": 175
        }
      ]
    }
  ]
}